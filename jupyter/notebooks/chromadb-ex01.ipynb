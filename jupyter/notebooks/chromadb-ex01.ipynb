{
 "cells": [
  {
   "cell_type": "markdown",
   "id": "7aedb036-c22b-4d19-a877-89e00f09d86e",
   "metadata": {},
   "source": [
    "# データの読み取り"
   ]
  },
  {
   "cell_type": "code",
   "execution_count": null,
   "id": "f8f985ff-b2be-42a1-8b14-140ef884733e",
   "metadata": {},
   "outputs": [],
   "source": [
    "from langchain.document_loaders import PyPDFLoader, PyMuPDFLoader"
   ]
  },
  {
   "cell_type": "code",
   "execution_count": null,
   "id": "9bf1bae2-b808-40a2-b1e9-c402768237ca",
   "metadata": {},
   "outputs": [],
   "source": [
    "# ファイルの読み込み\n",
    "FILE_PATH = './input/fies_mr-y.pdf' # 事前にファイルをアップロードしておく\n",
    "loader = PyMuPDFLoader(FILE_PATH)\n",
    "documents = loader.load()"
   ]
  },
  {
   "cell_type": "code",
   "execution_count": null,
   "id": "0bd83709-a770-460b-9534-1ae2ff978d0e",
   "metadata": {},
   "outputs": [],
   "source": [
    "# documents"
   ]
  },
  {
   "cell_type": "markdown",
   "id": "b7ed35b4-5e4b-42fa-8cc5-a151dbc97821",
   "metadata": {},
   "source": [
    "# データをチャンクに分割"
   ]
  },
  {
   "cell_type": "code",
   "execution_count": null,
   "id": "aacb034e-e707-42c8-8ef6-c46865aa026c",
   "metadata": {},
   "outputs": [],
   "source": [
    "from langchain.text_splitter import RecursiveCharacterTextSplitter, CharacterTextSplitter"
   ]
  },
  {
   "cell_type": "markdown",
   "id": "af769d7f-d642-4c84-8acb-bcc48ae5e75b",
   "metadata": {},
   "source": [
    "## 分割方法の定義（以下のどちらかを有効に）"
   ]
  },
  {
   "cell_type": "code",
   "execution_count": null,
   "id": "4188318e-1a39-4538-bd99-ccc67238ccc0",
   "metadata": {},
   "outputs": [],
   "source": [
    "# text_splitter = CharacterTextSplitter(\n",
    "#     separator = \"\\n\\n\",\n",
    "#     chunk_size=200,\n",
    "#     chunk_overlap=0\n",
    "# )"
   ]
  },
  {
   "cell_type": "code",
   "execution_count": null,
   "id": "4ef1f41a-d307-4db2-ab64-981293ceb59e",
   "metadata": {},
   "outputs": [],
   "source": [
    "text_splitter = RecursiveCharacterTextSplitter(\n",
    "    separators=[\n",
    "        \"$\",\n",
    "        \"\\n\\n\",\n",
    "        \"\\uff0e\",  # 全角「。」\n",
    "        \"\\n\",\n",
    "        \"\\uff0c\",  # 全角コンマ\n",
    "        \".\",\n",
    "        \",\",\n",
    "        \" \",\n",
    "        \"\",\n",
    "    ],\n",
    "    chunk_size=200,\n",
    "    chunk_overlap=0\n",
    ")"
   ]
  },
  {
   "cell_type": "markdown",
   "id": "7737afc5-2d85-4fe0-8910-5409f039c743",
   "metadata": {},
   "source": [
    "## チャンクに分割"
   ]
  },
  {
   "cell_type": "code",
   "execution_count": null,
   "id": "accf669e-2e76-410f-9965-c0b7e78d7d71",
   "metadata": {},
   "outputs": [],
   "source": [
    "documents_chunk = text_splitter.split_documents(documents)"
   ]
  },
  {
   "cell_type": "code",
   "execution_count": null,
   "id": "f8687886-a411-4aca-8b3e-b243f0b17123",
   "metadata": {},
   "outputs": [],
   "source": [
    "# documents_chunk"
   ]
  },
  {
   "cell_type": "code",
   "execution_count": null,
   "id": "c7115563-8eb5-4693-9fc1-483781b6ae22",
   "metadata": {},
   "outputs": [],
   "source": [
    "type(documents_chunk[0])"
   ]
  },
  {
   "cell_type": "code",
   "execution_count": null,
   "id": "3ad9a1c2-9bdb-4d47-92a8-c8689e8d5611",
   "metadata": {},
   "outputs": [],
   "source": [
    "# 文字数の確認\n",
    "for doc in documents_chunk:\n",
    "    print(\"文字数：\",len(doc.page_content))"
   ]
  },
  {
   "cell_type": "markdown",
   "id": "c0e75edd-4aa5-4c14-bfa8-b8bb62389dad",
   "metadata": {},
   "source": [
    "# ベクトルDB作成"
   ]
  },
  {
   "cell_type": "markdown",
   "id": "a1cced58-3a1f-4dd6-9114-a5ff1cda7859",
   "metadata": {},
   "source": [
    "## 埋め込みモデル定義"
   ]
  },
  {
   "cell_type": "code",
   "execution_count": null,
   "id": "3e357e1d-b8c2-4785-a3c1-d668e93f3c87",
   "metadata": {},
   "outputs": [],
   "source": [
    "from langchain_huggingface import HuggingFaceEmbeddings"
   ]
  },
  {
   "cell_type": "code",
   "execution_count": null,
   "id": "46a130ea-91dc-4436-9e30-f693ff57b300",
   "metadata": {},
   "outputs": [],
   "source": [
    "# 埋め込みモデルの定義\n",
    "embeddings = HuggingFaceEmbeddings(model_name=\"all-MiniLM-L6-v2\")"
   ]
  },
  {
   "cell_type": "code",
   "execution_count": null,
   "id": "8d3f7d85-655d-4bf6-a54f-09ea4822a2e7",
   "metadata": {},
   "outputs": [],
   "source": [
    "embeddings"
   ]
  },
  {
   "cell_type": "code",
   "execution_count": null,
   "id": "706ee413-c834-4559-b4b1-51893cd42418",
   "metadata": {},
   "outputs": [],
   "source": [
    "type(embeddings)"
   ]
  },
  {
   "cell_type": "markdown",
   "id": "4b985115-a95c-4a54-98cf-e8832a5fea62",
   "metadata": {},
   "source": [
    "## ベクトルDB作成"
   ]
  },
  {
   "cell_type": "code",
   "execution_count": null,
   "id": "007b4fac-0100-4a34-b171-6548747c7871",
   "metadata": {},
   "outputs": [],
   "source": [
    "from langchain.vectorstores import Chroma"
   ]
  },
  {
   "cell_type": "code",
   "execution_count": null,
   "id": "c6c6e03b-db2d-4d11-8c44-b907dda8a889",
   "metadata": {},
   "outputs": [],
   "source": [
    "# ベクトルデータベースを作る（ここを2回実行すると、1つのベクトルデータベースに同じデータが2度格納されることになるので注意）\n",
    "vectordb = Chroma.from_documents(\n",
    "    documents=documents_chunk,\n",
    "    embedding=embeddings\n",
    ")"
   ]
  },
  {
   "cell_type": "code",
   "execution_count": null,
   "id": "53b4b1a9-153c-47b7-8c47-afef928a8d93",
   "metadata": {},
   "outputs": [],
   "source": [
    "vectordb"
   ]
  },
  {
   "cell_type": "markdown",
   "id": "0f904289-1796-420f-9515-3113c4d8512e",
   "metadata": {},
   "source": [
    "## 検索確認"
   ]
  },
  {
   "cell_type": "code",
   "execution_count": null,
   "id": "4c921ec8-09ab-49e9-bccb-0b6b3a63dff0",
   "metadata": {},
   "outputs": [],
   "source": [
    "sc = vectordb.similarity_search_with_relevance_scores(query=\"消費支出の推移はどのようになっていますか？\", k=3)\n",
    "for s in sc:\n",
    "    print('--')\n",
    "    print(s)"
   ]
  },
  {
   "cell_type": "code",
   "execution_count": null,
   "id": "347db982-96bc-4782-82a9-0c47d8154c1a",
   "metadata": {},
   "outputs": [],
   "source": [
    "questions =[\n",
    "    {\"question\":\"2023年12月分において、二人以上の世帯における1世帯あたりの消費支出は？\"},\n",
    "    {\"question\":\"2023年12月分において、消費支出（二人以上の世帯）は、前年同月比で、実質的に何%変化しましたか？\"},\n",
    "    {\"question\":\"2023年3月の消費支出は、前年同月の消費支出に比べて、どれくらい変化しましたか？\"},\n",
    "    {\"question\":\"2023年12月分において、消費支出の内訳（2023年12月－二人以上の世帯）に関して、家具・家事用品の実質増減率への寄与度はいくらですか？\"},\n",
    "    {\"question\":\"2023年12月分において、消費支出の内訳（2023年12月－二人以上の世帯）に関して、住居の金額はいくらですか？\"},\n",
    "    {\"question\":\"2023年12月分において、勤労者世帯の実収入（二人以上の世帯）は、前年同月比で、名目的に何%減少しましたか？\"},\n",
    "    {\"question\":\"2023年12月分において、勤労者世帯の収支の内訳に関して、実質増減率への寄与度の絶対値が最も大きい項目は何ですか？値ではなく項目を教えてください\"},\n",
    "    {'question':'第4表 主要家計指標（エクセル：53KB） から、総世帯の消費支出の列を抜き出し、2019年度平均の値を取り出してください'},\n",
    "    {'question':'第4表 主要家計指標（エクセル：53KB） から、総世帯の世帯人員の列を抜き出し、2019年度平均の値を取り出してください'},\n",
    "    {\"question\":\"2023年10～12月期平均において、総世帯における1世帯あたりの消費支出は？\"},\n",
    "    {'question':'2023年10～12月期平均において、消費支出（総世帯）は、前年同期比で実質的に何%変化しましたか？'},\n",
    "    {\"question\":\"2023年10～12月期平均において、勤労者世帯の実収入（二人以上の世帯）は、前年同期比で、実質的に何%減少しましたか？また、名目的に何%減少しましたか？\",},\n",
    "    {\"question\":\"2023年12月分において、勤労者世帯の収支の内訳に関して、世帯主収入の金額と配偶者の収入の金額では、どちらが大きいですか？\"},\n",
    "    {\"question\":\"2023年平均において、総世帯における1世帯あたりの消費支出は？\"},\n",
    "    {\"question\":\"2023年平均において、消費支出の内訳に関して、教養娯楽の金額はいくらですか？\"},\n",
    "    {\"question\":\"2024年の7~9月期平均の家計調査結果の公表日はいつですか？\"},\n",
    "    {\"question\":\"家計調査の消費支出には、外国人観光客による消費分は含まれているか？\"},\n",
    "    {\"question\":\"労働者１人当たりの平均賃金を知りたい場合はどの調査結果を参照すればいいか？\"},\n",
    "    {\"question\":\"総務省統計局統計調査部消費統計課審査発表係の電話番号を教えてください\"},\n",
    "    {\"question\":\"統計メールニュースを申し込むためのURLを教えてください\"},\n",
    "]"
   ]
  },
  {
   "cell_type": "code",
   "execution_count": null,
   "id": "323814b3-3682-4882-a1b2-0f41e8caf67e",
   "metadata": {},
   "outputs": [],
   "source": [
    "for i, q in enumerate(questions):\n",
    "    # questions[i][\"chunks\"] = \"\\n\".join(vectordb.similarity_search_with_relevance_scores(query=q['question'], k=3))\n",
    "    sc = vectordb.similarity_search_with_relevance_scores(query=q['question'], k=3)\n",
    "    documents = []\n",
    "    for s in sc:\n",
    "        # print('--')\n",
    "        # print(type(s[0]))\n",
    "        document, score = s\n",
    "        # print(document.page_content)\n",
    "        documents.append(\"{} : {}\".format(document.page_content, score))\n",
    "\n",
    "    q['documents'] = '\\n'.join(documents)"
   ]
  },
  {
   "cell_type": "code",
   "execution_count": null,
   "id": "dc790b04-bc7d-4c8a-93b0-3619dff48b70",
   "metadata": {},
   "outputs": [],
   "source": [
    "import pandas as pd"
   ]
  },
  {
   "cell_type": "code",
   "execution_count": null,
   "id": "05c42742-1ee1-49cc-904d-d1c5dfb432fd",
   "metadata": {},
   "outputs": [],
   "source": [
    "questions_df = pd.DataFrame(questions)"
   ]
  },
  {
   "cell_type": "code",
   "execution_count": null,
   "id": "976a8ec5-1213-4152-9b3d-2383183dd74f",
   "metadata": {},
   "outputs": [],
   "source": [
    "questions_df"
   ]
  },
  {
   "cell_type": "code",
   "execution_count": null,
   "id": "33374a36-d58f-4b34-becc-cffbe080dbad",
   "metadata": {},
   "outputs": [],
   "source": [
    "import datetime\n",
    "questions_df.to_csv('output/chromadb-ex01-questions.{}.csv'.format(datetime.datetime.now().strftime('%Y%m%d-%H%M%S')), index=False)"
   ]
  },
  {
   "cell_type": "code",
   "execution_count": null,
   "id": "695d070f-3b43-46bf-9f76-fb792606aeb6",
   "metadata": {},
   "outputs": [],
   "source": []
  }
 ],
 "metadata": {
  "kernelspec": {
   "display_name": "Python 3 (ipykernel)",
   "language": "python",
   "name": "python3"
  },
  "language_info": {
   "codemirror_mode": {
    "name": "ipython",
    "version": 3
   },
   "file_extension": ".py",
   "mimetype": "text/x-python",
   "name": "python",
   "nbconvert_exporter": "python",
   "pygments_lexer": "ipython3",
   "version": "3.13.2"
  }
 },
 "nbformat": 4,
 "nbformat_minor": 5
}
