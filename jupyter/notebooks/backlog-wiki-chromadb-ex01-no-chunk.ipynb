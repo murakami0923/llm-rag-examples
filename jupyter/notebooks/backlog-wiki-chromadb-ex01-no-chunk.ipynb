{
 "cells": [
  {
   "cell_type": "markdown",
   "id": "7aedb036-c22b-4d19-a877-89e00f09d86e",
   "metadata": {},
   "source": [
    "# データの読み取り"
   ]
  },
  {
   "cell_type": "code",
   "execution_count": null,
   "id": "f8f985ff-b2be-42a1-8b14-140ef884733e",
   "metadata": {},
   "outputs": [],
   "source": [
    "from langchain.document_loaders import PyPDFLoader, PyMuPDFLoader"
   ]
  },
  {
   "cell_type": "code",
   "execution_count": null,
   "id": "c92ebd5f-0436-4cca-9d99-aa1765487115",
   "metadata": {},
   "outputs": [],
   "source": [
    "import json\n",
    "\n",
    "backlog_wiki_json_file_path = './backlog-wikis/wiki-pages.json'\n",
    "\n",
    "with open(backlog_wiki_json_file_path, 'r') as f:\n",
    "    backlog_wiki_json = json.load(f)\n",
    "\n",
    "i = 1\n",
    "backlog_wiki_json[i]['projectId'], backlog_wiki_json[i]['projectKey'], backlog_wiki_json[i]['projectName'], backlog_wiki_json[i]['name']"
   ]
  },
  {
   "cell_type": "code",
   "execution_count": null,
   "id": "40e45780-ae5f-496d-82e3-15dfd5f2209b",
   "metadata": {},
   "outputs": [],
   "source": [
    "import os\n",
    "\n",
    "file_contents = []\n",
    "\n",
    "for wiki_page in backlog_wiki_json:\n",
    "    content_dir_path: str = \\\n",
    "        './backlog-wikis/{project_key}_{project_name}/{wiki_id}_{name}/'.format(\n",
    "            project_key = wiki_page['projectKey'],\n",
    "            project_name = wiki_page['projectName'],\n",
    "            wiki_id = wiki_page['id'],\n",
    "            name = wiki_page['name'].replace('/', '／'),\n",
    "        )\n",
    "\n",
    "    content_file_name: str = \\\n",
    "        '{project_key}_{project_name}__{name}.md'.format(\n",
    "            project_key = wiki_page['projectKey'],\n",
    "            project_name = wiki_page['projectName'],\n",
    "            name = wiki_page['name'].replace('/', '／'),\n",
    "        )\n",
    "    \n",
    "    content_file_path: str = \\\n",
    "        '{dir}{file}'.format(\n",
    "            dir = content_dir_path,\n",
    "            file = content_file_name,\n",
    "        )\n",
    "\n",
    "    if not os.path.isfile(content_file_path):\n",
    "        print('ERROR : ファイルは存在しません。{content_file_path}'.format(content_file_path = content_file_path,))\n",
    "        continue\n",
    "        \n",
    "    with open(content_file_path, 'r') as f:\n",
    "        content = f.read()\n",
    "\n",
    "        file_contents.append({\n",
    "                'content': content,\n",
    "                'metadata': {\n",
    "                    'project_key': wiki_page['projectKey'],\n",
    "                    'project_name': wiki_page['projectName'],\n",
    "                    'page_name': wiki_page['name'],\n",
    "                    'filename': os.path.basename(content_file_path),\n",
    "                },\n",
    "            })"
   ]
  },
  {
   "cell_type": "code",
   "execution_count": null,
   "id": "5bb4c207-4b22-4920-8259-ec16fc32db2c",
   "metadata": {},
   "outputs": [],
   "source": [
    "from langchain.docstore.document import Document\n",
    "\n",
    "documents: list[Document] = []"
   ]
  },
  {
   "cell_type": "code",
   "execution_count": null,
   "id": "159932ae-cf0d-4d4a-aacc-37af7cd104ba",
   "metadata": {},
   "outputs": [],
   "source": [
    "for content in file_contents:\n",
    "    document = \\\n",
    "        Document(\n",
    "            page_content = content['content'],\n",
    "            metadata = content['metadata'],\n",
    "        )\n",
    "    documents.append(document)"
   ]
  },
  {
   "cell_type": "code",
   "execution_count": null,
   "id": "e0f0fcc7-3c1e-4b37-aa65-6594c69e0954",
   "metadata": {},
   "outputs": [],
   "source": [
    "# documents"
   ]
  },
  {
   "cell_type": "markdown",
   "id": "b7ed35b4-5e4b-42fa-8cc5-a151dbc97821",
   "metadata": {},
   "source": [
    "# (データをチャンクに分割)"
   ]
  },
  {
   "cell_type": "code",
   "execution_count": null,
   "id": "aacb034e-e707-42c8-8ef6-c46865aa026c",
   "metadata": {},
   "outputs": [],
   "source": [
    "# from langchain.text_splitter import RecursiveCharacterTextSplitter, CharacterTextSplitter"
   ]
  },
  {
   "cell_type": "markdown",
   "id": "af769d7f-d642-4c84-8acb-bcc48ae5e75b",
   "metadata": {},
   "source": [
    "## (分割方法の定義（以下のどちらかを有効に）)"
   ]
  },
  {
   "cell_type": "code",
   "execution_count": null,
   "id": "4188318e-1a39-4538-bd99-ccc67238ccc0",
   "metadata": {},
   "outputs": [],
   "source": [
    "# text_splitter = CharacterTextSplitter(\n",
    "#     separator = \"\\n\\n\",\n",
    "#     chunk_size=200,\n",
    "#     chunk_overlap=0\n",
    "# )"
   ]
  },
  {
   "cell_type": "code",
   "execution_count": null,
   "id": "4ef1f41a-d307-4db2-ab64-981293ceb59e",
   "metadata": {},
   "outputs": [],
   "source": [
    "# text_splitter = RecursiveCharacterTextSplitter(\n",
    "#     separators=[\n",
    "#         \"$\",\n",
    "#         \"\\n\\n\",\n",
    "#         \"\\uff0e\",  # 全角「。」\n",
    "#         \"\\n\",\n",
    "#         \"\\uff0c\",  # 全角コンマ\n",
    "#         \".\",\n",
    "#         \",\",\n",
    "#         \" \",\n",
    "#         \"\",\n",
    "#     ],\n",
    "#     chunk_size=200,\n",
    "#     chunk_overlap=0\n",
    "# )"
   ]
  },
  {
   "cell_type": "markdown",
   "id": "7737afc5-2d85-4fe0-8910-5409f039c743",
   "metadata": {},
   "source": [
    "## (チャンクに分割)"
   ]
  },
  {
   "cell_type": "code",
   "execution_count": null,
   "id": "accf669e-2e76-410f-9965-c0b7e78d7d71",
   "metadata": {},
   "outputs": [],
   "source": [
    "# documents_chunk = text_splitter.split_documents(documents)"
   ]
  },
  {
   "cell_type": "code",
   "execution_count": null,
   "id": "f8687886-a411-4aca-8b3e-b243f0b17123",
   "metadata": {},
   "outputs": [],
   "source": [
    "# documents_chunk"
   ]
  },
  {
   "cell_type": "code",
   "execution_count": null,
   "id": "c7115563-8eb5-4693-9fc1-483781b6ae22",
   "metadata": {},
   "outputs": [],
   "source": [
    "# type(documents_chunk[0])"
   ]
  },
  {
   "cell_type": "code",
   "execution_count": null,
   "id": "3ad9a1c2-9bdb-4d47-92a8-c8689e8d5611",
   "metadata": {},
   "outputs": [],
   "source": [
    "# # 文字数の確認\n",
    "# for doc in documents_chunk:\n",
    "#     print(\"文字数：\",len(doc.page_content))"
   ]
  },
  {
   "cell_type": "markdown",
   "id": "c0e75edd-4aa5-4c14-bfa8-b8bb62389dad",
   "metadata": {},
   "source": [
    "# ベクトルDB作成"
   ]
  },
  {
   "cell_type": "markdown",
   "id": "a1cced58-3a1f-4dd6-9114-a5ff1cda7859",
   "metadata": {},
   "source": [
    "## 埋め込みモデル定義"
   ]
  },
  {
   "cell_type": "code",
   "execution_count": null,
   "id": "3e357e1d-b8c2-4785-a3c1-d668e93f3c87",
   "metadata": {},
   "outputs": [],
   "source": [
    "from langchain_huggingface import HuggingFaceEmbeddings"
   ]
  },
  {
   "cell_type": "code",
   "execution_count": null,
   "id": "46a130ea-91dc-4436-9e30-f693ff57b300",
   "metadata": {},
   "outputs": [],
   "source": [
    "# 埋め込みモデルの定義\n",
    "embeddings = HuggingFaceEmbeddings(model_name=\"all-MiniLM-L6-v2\")"
   ]
  },
  {
   "cell_type": "code",
   "execution_count": null,
   "id": "8d3f7d85-655d-4bf6-a54f-09ea4822a2e7",
   "metadata": {},
   "outputs": [],
   "source": [
    "embeddings"
   ]
  },
  {
   "cell_type": "code",
   "execution_count": null,
   "id": "706ee413-c834-4559-b4b1-51893cd42418",
   "metadata": {},
   "outputs": [],
   "source": [
    "type(embeddings)"
   ]
  },
  {
   "cell_type": "code",
   "execution_count": null,
   "id": "e0008a07-dd0e-452d-b63c-fa529910dc5d",
   "metadata": {},
   "outputs": [],
   "source": [
    "# for filepath in backlog_wiki_files:\n",
    "#     print(os.path.basename(filepath))"
   ]
  },
  {
   "cell_type": "code",
   "execution_count": null,
   "id": "9b3fdc70-0ed9-4bb5-973e-a61f68ee3540",
   "metadata": {},
   "outputs": [],
   "source": [
    "# file_contents = []"
   ]
  },
  {
   "cell_type": "code",
   "execution_count": null,
   "id": "9176d056-bec8-4c21-bb17-9c261cd18861",
   "metadata": {},
   "outputs": [],
   "source": [
    "# for filepath in backlog_wiki_files:\n",
    "#     with open(filepath, 'r') as f:\n",
    "#         content = f.read()\n",
    "\n",
    "#         file_contents.append({\n",
    "#             'content': content,\n",
    "#             'metadata': {\n",
    "#                 'filename': os.path.basename(filepath),\n",
    "#             },\n",
    "#         })"
   ]
  },
  {
   "cell_type": "code",
   "execution_count": null,
   "id": "49e9e318-77b9-4bd6-a473-5363631dfaaa",
   "metadata": {},
   "outputs": [],
   "source": [
    "# type(file_contents)"
   ]
  },
  {
   "cell_type": "markdown",
   "id": "4b985115-a95c-4a54-98cf-e8832a5fea62",
   "metadata": {},
   "source": [
    "## ベクトルDB作成"
   ]
  },
  {
   "cell_type": "code",
   "execution_count": null,
   "id": "007b4fac-0100-4a34-b171-6548747c7871",
   "metadata": {},
   "outputs": [],
   "source": [
    "from langchain.vectorstores import Chroma"
   ]
  },
  {
   "cell_type": "code",
   "execution_count": null,
   "id": "c6c6e03b-db2d-4d11-8c44-b907dda8a889",
   "metadata": {},
   "outputs": [],
   "source": [
    "# ベクトルデータベースを作る（ここを2回実行すると、1つのベクトルデータベースに同じデータが2度格納されることになるので注意）\n",
    "vectordb = Chroma.from_documents(\n",
    "    documents=documents,\n",
    "    embedding=embeddings\n",
    ")"
   ]
  },
  {
   "cell_type": "code",
   "execution_count": null,
   "id": "53b4b1a9-153c-47b7-8c47-afef928a8d93",
   "metadata": {},
   "outputs": [],
   "source": [
    "vectordb"
   ]
  },
  {
   "cell_type": "markdown",
   "id": "0f904289-1796-420f-9515-3113c4d8512e",
   "metadata": {},
   "source": [
    "## 検索確認"
   ]
  },
  {
   "cell_type": "code",
   "execution_count": null,
   "id": "4c921ec8-09ab-49e9-bccb-0b6b3a63dff0",
   "metadata": {},
   "outputs": [],
   "source": [
    "sc = vectordb.similarity_search_with_relevance_scores(query=\"時短勤務のルールは？\", k=3)\n",
    "for s in sc:\n",
    "    print('--')\n",
    "    print(s)"
   ]
  },
  {
   "cell_type": "code",
   "execution_count": null,
   "id": "347db982-96bc-4782-82a9-0c47d8154c1a",
   "metadata": {},
   "outputs": [],
   "source": [
    "questions =[\n",
    "    {'question':'時短勤務のルールは？',},\n",
    "    {'question':'さくらインターネットの社員にカードキーを貸し出す方法は？',},\n",
    "    {'question':'ロゴはどこにありますか？',},\n",
    "    {'question': '開発用アカウント',},\n",
    "]"
   ]
  },
  {
   "cell_type": "code",
   "execution_count": null,
   "id": "323814b3-3682-4882-a1b2-0f41e8caf67e",
   "metadata": {},
   "outputs": [],
   "source": [
    "result = []\n",
    "\n",
    "for i, q in enumerate(questions):\n",
    "    # questions[i][\"chunks\"] = \"\\n\".join(vectordb.similarity_search_with_relevance_scores(query=q['question'], k=3))\n",
    "    sc = vectordb.similarity_search_with_relevance_scores(query=q['question'], k=3)\n",
    "    # documents = []\n",
    "    for j, s in enumerate(sc):\n",
    "        # print('--')\n",
    "        # print(type(s[0]))\n",
    "        document, score = s\n",
    "        # print(document.page_content)\n",
    "        # documents.append(\"{} : {}\".format(document.page_content, score))\n",
    "        result.append({\n",
    "            'question no.': i,\n",
    "            'question': q['question'],\n",
    "            'document no.': j,\n",
    "            'project key': document.metadata['project_key'],\n",
    "            'project name': document.metadata['project_name'],\n",
    "            'document name': document.metadata['page_name'],\n",
    "            'document content': document.page_content,\n",
    "            'score': score,\n",
    "        })\n",
    "\n",
    "    # q['documents'] = '\\n'.join(documents)"
   ]
  },
  {
   "cell_type": "code",
   "execution_count": null,
   "id": "dc790b04-bc7d-4c8a-93b0-3619dff48b70",
   "metadata": {},
   "outputs": [],
   "source": [
    "import pandas as pd"
   ]
  },
  {
   "cell_type": "code",
   "execution_count": null,
   "id": "05c42742-1ee1-49cc-904d-d1c5dfb432fd",
   "metadata": {},
   "outputs": [],
   "source": [
    "result_df = pd.DataFrame(result)"
   ]
  },
  {
   "cell_type": "code",
   "execution_count": null,
   "id": "976a8ec5-1213-4152-9b3d-2383183dd74f",
   "metadata": {},
   "outputs": [],
   "source": [
    "result_df"
   ]
  },
  {
   "cell_type": "code",
   "execution_count": null,
   "id": "33374a36-d58f-4b34-becc-cffbe080dbad",
   "metadata": {},
   "outputs": [],
   "source": [
    "import datetime\n",
    "result_df.to_excel('output/backlog-wiki-chromadb.{}.xlsx'.format(datetime.datetime.now().strftime('%Y%m%d-%H%M%S')), index=False)"
   ]
  },
  {
   "cell_type": "code",
   "execution_count": null,
   "id": "038a7e82-a3ab-4725-a7f2-09eddf7a8b0f",
   "metadata": {},
   "outputs": [],
   "source": []
  }
 ],
 "metadata": {
  "kernelspec": {
   "display_name": "Python 3 (ipykernel)",
   "language": "python",
   "name": "python3"
  },
  "language_info": {
   "codemirror_mode": {
    "name": "ipython",
    "version": 3
   },
   "file_extension": ".py",
   "mimetype": "text/x-python",
   "name": "python",
   "nbconvert_exporter": "python",
   "pygments_lexer": "ipython3",
   "version": "3.13.2"
  }
 },
 "nbformat": 4,
 "nbformat_minor": 5
}
