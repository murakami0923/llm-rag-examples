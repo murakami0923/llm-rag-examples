{
 "cells": [
  {
   "cell_type": "markdown",
   "id": "a1acf178-69e8-4d18-9c55-f72b3832b46d",
   "metadata": {},
   "source": [
    "# Amazon Bedrockのサンプル"
   ]
  },
  {
   "cell_type": "markdown",
   "id": "c17c5c81-42fe-486b-a8d7-d346475a7ad7",
   "metadata": {},
   "source": [
    "## 質問を定義"
   ]
  },
  {
   "cell_type": "markdown",
   "id": "d8e10024-4897-409c-b54c-463fe8c0340d",
   "metadata": {},
   "source": [
    "### PM スコープの拡大の対策について"
   ]
  },
  {
   "cell_type": "code",
   "execution_count": null,
   "id": "742c4f04-3891-43c2-8087-4ca22e23cfab",
   "metadata": {},
   "outputs": [],
   "source": [
    "QUESTION = \"\"\"\n",
    "あなたは、プロジェクトマネージャーのエキスパートです。\n",
    "\n",
    "プロジェクトマネジメントの経験がない、入社2年目のソフトウェア開発エンジニアに対して、スコープの拡大を要求するために圧力をかける顧客に対する対応策を説明してください。\n",
    "\n",
    "説明する際は、下記の項目をリスト形式で、10個、記載してください。\n",
    "\n",
    "書式：\n",
    "- お願いする内容\n",
    "    - お願いするタイミング\n",
    "    - 顧客が受け入れることによって、顧客に生じるメリット\n",
    "    - 顧客が受け入れないことによって、顧客に生じるデメリット\n",
    "\"\"\""
   ]
  },
  {
   "cell_type": "markdown",
   "id": "64e6fe10-ac70-484a-9434-067beb9daf8d",
   "metadata": {},
   "source": [
    "## AWS profileを環境変数から取得"
   ]
  },
  {
   "cell_type": "code",
   "execution_count": null,
   "id": "9161cc88-d894-4579-afd7-4d693d49e1ba",
   "metadata": {},
   "outputs": [],
   "source": [
    "import os"
   ]
  },
  {
   "cell_type": "code",
   "execution_count": null,
   "id": "419bc3ce-c0c6-4137-b070-2ef4b9603058",
   "metadata": {},
   "outputs": [],
   "source": [
    "# os.environ"
   ]
  },
  {
   "cell_type": "code",
   "execution_count": null,
   "id": "285af017-f36a-4564-b68b-2c93e1030749",
   "metadata": {},
   "outputs": [],
   "source": [
    "AWS_PROFILE = os.environ['AWS_PROFILE']\n",
    "AWS_PROFILE"
   ]
  },
  {
   "cell_type": "markdown",
   "id": "e98d0f8b-8468-459e-b35a-be604399e3a8",
   "metadata": {},
   "source": [
    "## モデル"
   ]
  },
  {
   "cell_type": "markdown",
   "id": "2b3aad95-872b-4361-b6d6-7a301d27d22d",
   "metadata": {},
   "source": [
    "### Anthropic Claude 2.1\n",
    "\n",
    "公式の説明：[https://ap-northeast-1.console.aws.amazon.com/bedrock/home?region=ap-northeast-1#/model-catalog/serverless/anthropic.claude-v2:1](https://ap-northeast-1.console.aws.amazon.com/bedrock/home?region=ap-northeast-1#/model-catalog/serverless/anthropic.claude-v2:1)\n",
    "\n",
    "APIリクエストのサンプル：\n",
    "```json\n",
    "{\n",
    "  \"modelId\": \"anthropic.claude-v2:1\",\n",
    "  \"contentType\": \"application/json\",\n",
    "  \"accept\": \"*/*\",\n",
    "  \"body\": \"{\\\"prompt\\\":\\\"\\\\n\\\\nHuman: Hello world\\\\n\\\\nAssistant:\\\",\\\"max_tokens_to_sample\\\":300,\\\"temperature\\\":0.5,\\\"top_k\\\":250,\\\"top_p\\\":1,\\\"stop_sequences\\\":[\\\"\\\\n\\\\nHuman:\\\"],\\\"anthropic_version\\\":\\\"bedrock-2023-05-31\\\"}\"\n",
    "}\n",
    "```"
   ]
  },
  {
   "cell_type": "code",
   "execution_count": null,
   "id": "42a11a13-e8a5-4cd3-8ae9-e049c47e58c4",
   "metadata": {},
   "outputs": [],
   "source": [
    "import json\n",
    "\n",
    "REGION = 'us-east-1'\n",
    "\n",
    "MODEL_ID = 'anthropic.claude-v2:1'\n",
    "CONTENT_TYPE = 'application/json'\n",
    "ACCEPT = '*/*'\n",
    "RESPONSE_ITEM = 'completion'\n",
    "\n",
    "prompt = \"\"\"\n",
    "\n",
    "\n",
    "Human: {QUESTION}\n",
    "\n",
    "\n",
    "Assistant:\"\n",
    "\"\"\".format(QUESTION = QUESTION,)\n",
    "\n",
    "print(prompt)\n",
    "\n",
    "stop_sequences = [\"\"\"\n",
    "\n",
    "Human:\n",
    "\"\"\",\n",
    "]\n",
    "\n",
    "BODY = {\n",
    "    'prompt': prompt,\n",
    "    'max_tokens_to_sample': 102400,\n",
    "    'temperature': 0.5,\n",
    "    'top_k': 250,\n",
    "    'top_p': 1,\n",
    "    'stop_sequences': stop_sequences,\n",
    "    'anthropic_version': 'bedrock-2023-05-31',\n",
    "}\n",
    "\n",
    "BODY = json.dumps(BODY)\n",
    "BODY"
   ]
  },
  {
   "cell_type": "markdown",
   "id": "0c918500-e0da-4b57-abd9-c2206f3ca01f",
   "metadata": {},
   "source": [
    "## 定義したモデルでリクエストし、回答を得る"
   ]
  },
  {
   "cell_type": "markdown",
   "id": "c372776a-8aef-4e4f-9582-e58c105e77c3",
   "metadata": {},
   "source": [
    "### Bedrockのクライアント生成"
   ]
  },
  {
   "cell_type": "code",
   "execution_count": null,
   "id": "10d4384f-c65a-4328-9da7-4b2fb5eff68b",
   "metadata": {},
   "outputs": [],
   "source": [
    "import boto3\n",
    "session = boto3.Session(profile_name = AWS_PROFILE, region_name = REGION)\n",
    "bedrock = session.client('bedrock-runtime') # Clientオブジェクト生成"
   ]
  },
  {
   "cell_type": "markdown",
   "id": "5837b07a-2ccb-4d5d-91a3-5d2f69b3593e",
   "metadata": {},
   "source": [
    "### Bedrockへリクエストし、回答を表示"
   ]
  },
  {
   "cell_type": "code",
   "execution_count": null,
   "id": "145cdf8d-64ee-44c6-a93f-717ba8383b5c",
   "metadata": {},
   "outputs": [],
   "source": [
    "import datetime\n",
    "print('開始：' + datetime.datetime.now().strftime('%Y-%m-%d %H:%M:%S'))\n",
    "response = bedrock.invoke_model(body=BODY, modelId=MODEL_ID, accept=ACCEPT, contentType=CONTENT_TYPE)\n",
    "response_body = json.loads(response.get('body').read())\n",
    "print('終了：' + datetime.datetime.now().strftime('%Y-%m-%d %H:%M:%S'))\n",
    "response_body"
   ]
  },
  {
   "cell_type": "code",
   "execution_count": null,
   "id": "59568fc0-a1a8-4f9a-a12c-0f853a88613a",
   "metadata": {},
   "outputs": [],
   "source": [
    "type(response_body)"
   ]
  },
  {
   "cell_type": "code",
   "execution_count": null,
   "id": "bbbe489a-5931-476a-9d36-977fb0ee031a",
   "metadata": {},
   "outputs": [],
   "source": [
    "print(response_body[RESPONSE_ITEM])"
   ]
  },
  {
   "cell_type": "code",
   "execution_count": null,
   "id": "547320ba-9ddb-4306-83eb-06283467853b",
   "metadata": {},
   "outputs": [],
   "source": []
  }
 ],
 "metadata": {
  "kernelspec": {
   "display_name": "Python 3 (ipykernel)",
   "language": "python",
   "name": "python3"
  },
  "language_info": {
   "codemirror_mode": {
    "name": "ipython",
    "version": 3
   },
   "file_extension": ".py",
   "mimetype": "text/x-python",
   "name": "python",
   "nbconvert_exporter": "python",
   "pygments_lexer": "ipython3",
   "version": "3.13.2"
  }
 },
 "nbformat": 4,
 "nbformat_minor": 5
}
