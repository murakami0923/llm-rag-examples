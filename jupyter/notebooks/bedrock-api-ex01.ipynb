{
 "cells": [
  {
   "cell_type": "code",
   "execution_count": null,
   "id": "9161cc88-d894-4579-afd7-4d693d49e1ba",
   "metadata": {},
   "outputs": [],
   "source": [
    "import boto3\n",
    "import os"
   ]
  },
  {
   "cell_type": "code",
   "execution_count": null,
   "id": "419bc3ce-c0c6-4137-b070-2ef4b9603058",
   "metadata": {},
   "outputs": [],
   "source": [
    "os.environ"
   ]
  },
  {
   "cell_type": "code",
   "execution_count": null,
   "id": "285af017-f36a-4564-b68b-2c93e1030749",
   "metadata": {},
   "outputs": [],
   "source": [
    "AWS_PROFILE = os.environ['AWS_PROFILE']\n",
    "AWS_PROFILE"
   ]
  },
  {
   "cell_type": "code",
   "execution_count": null,
   "id": "2a63b9be-62af-4538-ae18-d355fa2ce877",
   "metadata": {},
   "outputs": [],
   "source": [
    "REGION = 'us-east-1'"
   ]
  },
  {
   "cell_type": "code",
   "execution_count": null,
   "id": "b34e664b-a15f-4918-bdf5-723fdc291688",
   "metadata": {},
   "outputs": [],
   "source": [
    "session = boto3.Session(profile_name = AWS_PROFILE, region_name = REGION)"
   ]
  },
  {
   "cell_type": "code",
   "execution_count": null,
   "id": "7f8af55c-8f2a-4f56-8d96-7c458673e2ba",
   "metadata": {},
   "outputs": [],
   "source": [
    "bedrock = session.client('bedrock-runtime') # Clientオブジェクト生成"
   ]
  },
  {
   "cell_type": "code",
   "execution_count": null,
   "id": "a15b2603-7769-43d3-a407-f18bfa1888c1",
   "metadata": {},
   "outputs": [],
   "source": [
    "import json"
   ]
  },
  {
   "cell_type": "code",
   "execution_count": null,
   "id": "621883dd-bb13-4394-9534-169d5dd4bfa1",
   "metadata": {},
   "outputs": [],
   "source": [
    "body = json.dumps({\n",
    "    \"prompt\": \"\\n\\nHuman:さくらインターネットってどんな会社？\\n\\nAssistant:\",\n",
    "    \"max_tokens_to_sample\": 1024,\n",
    "    \"temperature\": 0.1,\n",
    "    \"top_p\": 0.9,\n",
    "})\n"
   ]
  },
  {
   "cell_type": "code",
   "execution_count": null,
   "id": "a61e0837-696d-48a9-9eba-df4ad216b8ea",
   "metadata": {},
   "outputs": [],
   "source": [
    "# modelId = 'anthropic.claude-3-haiku-20240307-v1:0'\n",
    "modelId = 'anthropic.claude-v2'\n",
    "# modelId = 'amazon.titan-text-lite-v1'"
   ]
  },
  {
   "cell_type": "code",
   "execution_count": null,
   "id": "04fb1e5b-e262-4c60-9f60-fe93a7e4c43b",
   "metadata": {},
   "outputs": [],
   "source": [
    "accept = 'application/json'\n",
    "# accept = '*/*'\n",
    "contentType = 'application/json'"
   ]
  },
  {
   "cell_type": "code",
   "execution_count": null,
   "id": "145cdf8d-64ee-44c6-a93f-717ba8383b5c",
   "metadata": {},
   "outputs": [],
   "source": [
    "response = bedrock.invoke_model(body=body, modelId=modelId, accept=accept, contentType=contentType)\n",
    "response_body = json.loads(response.get('body').read())\n",
    "response_body"
   ]
  },
  {
   "cell_type": "code",
   "execution_count": null,
   "id": "0e13071c-b545-44ce-8651-469e6e63a081",
   "metadata": {},
   "outputs": [],
   "source": [
    "type(response_body)"
   ]
  },
  {
   "cell_type": "code",
   "execution_count": null,
   "id": "8af5701d-d2be-4b9b-a707-2e852efe5f4f",
   "metadata": {},
   "outputs": [],
   "source": [
    "# text\n",
    "print(response_body.get('completion'))"
   ]
  },
  {
   "cell_type": "code",
   "execution_count": null,
   "id": "bbbe489a-5931-476a-9d36-977fb0ee031a",
   "metadata": {},
   "outputs": [],
   "source": []
  }
 ],
 "metadata": {
  "kernelspec": {
   "display_name": "Python 3 (ipykernel)",
   "language": "python",
   "name": "python3"
  },
  "language_info": {
   "codemirror_mode": {
    "name": "ipython",
    "version": 3
   },
   "file_extension": ".py",
   "mimetype": "text/x-python",
   "name": "python",
   "nbconvert_exporter": "python",
   "pygments_lexer": "ipython3",
   "version": "3.13.2"
  }
 },
 "nbformat": 4,
 "nbformat_minor": 5
}
