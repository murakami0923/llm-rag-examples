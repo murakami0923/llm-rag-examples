{
 "cells": [
  {
   "cell_type": "code",
   "execution_count": null,
   "id": "f40b2279-7483-4e20-8b68-695d4d15fad0",
   "metadata": {},
   "outputs": [],
   "source": [
    "import mysql.connector\n",
    "from sentence_transformers import SentenceTransformer"
   ]
  },
  {
   "cell_type": "code",
   "execution_count": null,
   "id": "489157de-02f3-44e1-ab86-3435bf57a721",
   "metadata": {},
   "outputs": [],
   "source": [
    "import os\n",
    "db_config = {\n",
    "    'user': os.environ['MYSQL_USER'],\n",
    "    'password': os.environ['MYSQL_PASSWORD'],\n",
    "    'host': 'llm-rag-examples-mysql',\n",
    "    'database': os.environ['MYSQL_DATABASE'],\n",
    "}\n",
    "\n",
    "db_config"
   ]
  },
  {
   "cell_type": "code",
   "execution_count": null,
   "id": "9bc2fcc9-db64-4995-bc8e-74e552bd750a",
   "metadata": {},
   "outputs": [],
   "source": [
    "conn = mysql.connector.connect(**db_config)\n",
    "cursor = conn.cursor()"
   ]
  },
  {
   "cell_type": "code",
   "execution_count": null,
   "id": "f2dbadaf-e494-422c-8f0e-5222e0c8738f",
   "metadata": {},
   "outputs": [],
   "source": [
    "texts = [\n",
    "    'これはテスト文です。',\n",
    "    'もう一つのサンプルテキスト。',\n",
    "]"
   ]
  },
  {
   "cell_type": "code",
   "execution_count": null,
   "id": "69629c91-b97e-4dbb-83fa-1bcedd92721f",
   "metadata": {},
   "outputs": [],
   "source": [
    "model = SentenceTransformer('sentence-transformers/all-MiniLM-L6-v2')\n",
    "model"
   ]
  },
  {
   "cell_type": "code",
   "execution_count": null,
   "id": "f8482f03-f59f-426f-8951-92058b0d0843",
   "metadata": {},
   "outputs": [],
   "source": [
    "cursor.execute('TRUNCATE TABLE text_embeddings')"
   ]
  },
  {
   "cell_type": "code",
   "execution_count": null,
   "id": "b4991f70-bd6b-414e-a95a-1ad83f84dd48",
   "metadata": {},
   "outputs": [],
   "source": [
    "import pprint\n",
    "for text in texts:\n",
    "    embedding = model.encode([text])[0]\n",
    "    embedding_str = ','.join(map(str, embedding))\n",
    "    pprint.pprint(f'[{embedding_str}]')\n",
    "    print(type(f'[{embedding_str}]'))\n",
    "    cursor.execute('INSERT INTO text_embeddings (text, embedding) VALUES (%s, STRING_TO_VECTOR(%s))', (text, f'[{embedding_str}]'))"
   ]
  },
  {
   "cell_type": "code",
   "execution_count": null,
   "id": "b01086e1-4688-4083-8113-770ab3856adb",
   "metadata": {},
   "outputs": [],
   "source": [
    "conn.commit()"
   ]
  },
  {
   "cell_type": "code",
   "execution_count": null,
   "id": "ab43e563-2cfd-4bad-975e-889186abfa60",
   "metadata": {},
   "outputs": [],
   "source": [
    "cursor.close()\n",
    "conn.close()"
   ]
  },
  {
   "cell_type": "code",
   "execution_count": null,
   "id": "e20574bb-c633-4d42-9522-5ad0fdfcaa4f",
   "metadata": {},
   "outputs": [],
   "source": []
  }
 ],
 "metadata": {
  "kernelspec": {
   "display_name": "Python 3 (ipykernel)",
   "language": "python",
   "name": "python3"
  },
  "language_info": {
   "codemirror_mode": {
    "name": "ipython",
    "version": 3
   },
   "file_extension": ".py",
   "mimetype": "text/x-python",
   "name": "python",
   "nbconvert_exporter": "python",
   "pygments_lexer": "ipython3",
   "version": "3.13.2"
  }
 },
 "nbformat": 4,
 "nbformat_minor": 5
}
