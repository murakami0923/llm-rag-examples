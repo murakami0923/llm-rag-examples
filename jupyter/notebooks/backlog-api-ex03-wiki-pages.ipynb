{
 "cells": [
  {
   "cell_type": "markdown",
   "id": "fcbe4af9-b7a6-493d-8ef5-a5b169e626dc",
   "metadata": {},
   "source": [
    "# Backlog APIでwikiページ情報情報を取得するサンプル"
   ]
  },
  {
   "cell_type": "markdown",
   "id": "33065178-b1c4-4ecd-b51a-2ffe32e97d97",
   "metadata": {},
   "source": [
    "## 設定"
   ]
  },
  {
   "cell_type": "code",
   "execution_count": null,
   "id": "402c9e12-3f74-4e1d-a19b-69442e6af3f1",
   "metadata": {},
   "outputs": [],
   "source": [
    "USE_PROJECT_KEYS: list[str] = [\n",
    "    # 'BWKM',\n",
    "    'BSEV',\n",
    "]"
   ]
  },
  {
   "cell_type": "code",
   "execution_count": null,
   "id": "447ffa01-facb-4ac7-be96-41ae49bd5786",
   "metadata": {},
   "outputs": [],
   "source": [
    "SKIP_WIKI_PAGE_NAME: list[str] = [\n",
    "    '不使用',\n",
    "]"
   ]
  },
  {
   "cell_type": "markdown",
   "id": "c87098a8-e6ea-41ed-8a92-b7dae467a614",
   "metadata": {},
   "source": [
    "## BacklogのAPIキーを環境変数から取得する"
   ]
  },
  {
   "cell_type": "code",
   "execution_count": null,
   "id": "dd52eeb1-6715-4a1d-839f-6a1fb672af6e",
   "metadata": {},
   "outputs": [],
   "source": [
    "import os\n",
    "BACKLOG_API_KEY = os.environ['BACKLOG_API_KEY']"
   ]
  },
  {
   "cell_type": "code",
   "execution_count": null,
   "id": "2d26201b-81d7-4110-b2fc-8df8fa142f28",
   "metadata": {},
   "outputs": [],
   "source": [
    "BACKLOG_BASE_URL = 'https://bitstar.backlog.jp'"
   ]
  },
  {
   "cell_type": "markdown",
   "id": "23fe001d-e6e8-486e-bf21-59b5f9cc78d9",
   "metadata": {},
   "source": [
    "## BacklogのAPIでユーザー情報を取得する"
   ]
  },
  {
   "cell_type": "code",
   "execution_count": null,
   "id": "8f805a8d-1814-4d30-965c-cf185fdd82a2",
   "metadata": {},
   "outputs": [],
   "source": [
    "API_URL = '/api/v2/projects'"
   ]
  },
  {
   "cell_type": "code",
   "execution_count": null,
   "id": "efedda7d-8b16-45a0-917d-359841ebc244",
   "metadata": {},
   "outputs": [],
   "source": [
    "url = '{base_url}{api_url}?apiKey={api_key}'.format(base_url = BACKLOG_BASE_URL, api_url = API_URL, api_key = BACKLOG_API_KEY,)"
   ]
  },
  {
   "cell_type": "code",
   "execution_count": null,
   "id": "dfdb697d-ef75-4392-a7ff-42d47bc2d9f9",
   "metadata": {},
   "outputs": [],
   "source": [
    "import requests"
   ]
  },
  {
   "cell_type": "code",
   "execution_count": null,
   "id": "8da3eadd-1584-48ce-9a1c-eb4b5046d2e2",
   "metadata": {},
   "outputs": [],
   "source": [
    "response = requests.get(url)"
   ]
  },
  {
   "cell_type": "code",
   "execution_count": null,
   "id": "f822cd30-68d6-4ca7-94d8-f8f5d62e8c24",
   "metadata": {},
   "outputs": [],
   "source": [
    "response"
   ]
  },
  {
   "cell_type": "code",
   "execution_count": null,
   "id": "4d286e0b-78e0-4d02-ad85-51e0c6aa4e78",
   "metadata": {},
   "outputs": [],
   "source": [
    "# response.text"
   ]
  },
  {
   "cell_type": "code",
   "execution_count": null,
   "id": "acaf214c-6a97-4e66-9845-f82db5233619",
   "metadata": {},
   "outputs": [],
   "source": [
    "import json\n",
    "data = json.loads(response.text)"
   ]
  },
  {
   "cell_type": "markdown",
   "id": "ef95943b-44de-4b5a-86ad-a5e3a193347a",
   "metadata": {},
   "source": [
    "## JSONをパースする"
   ]
  },
  {
   "cell_type": "code",
   "execution_count": null,
   "id": "04c6298f-6ece-45b4-ab93-192df814c7e2",
   "metadata": {
    "scrolled": true
   },
   "outputs": [],
   "source": [
    "import json\n",
    "projects = json.loads(response.text)"
   ]
  },
  {
   "cell_type": "code",
   "execution_count": null,
   "id": "689bf4c9-0132-4b59-b849-ca9193d21402",
   "metadata": {},
   "outputs": [],
   "source": [
    "# projects"
   ]
  },
  {
   "cell_type": "code",
   "execution_count": null,
   "id": "8c246fb1-2534-42bd-81d3-6fce0d5434cf",
   "metadata": {},
   "outputs": [],
   "source": [
    "project_name_dict: dict[str] = {}\n",
    "project_key_dict: dict[str] = {}\n",
    "for project in projects:\n",
    "    if project['projectKey'] not in USE_PROJECT_KEYS:\n",
    "        continue\n",
    "    project_name_dict[str(project['id'])] = project['name']\n",
    "    project_key_dict[str(project['id'])] = project['projectKey']"
   ]
  },
  {
   "cell_type": "code",
   "execution_count": null,
   "id": "c8108ae6-f41f-42a0-bdb1-7bbb234cebb8",
   "metadata": {},
   "outputs": [],
   "source": [
    "project_name_dict"
   ]
  },
  {
   "cell_type": "code",
   "execution_count": null,
   "id": "28d912d2-36f4-45b1-a414-9da11bce0213",
   "metadata": {},
   "outputs": [],
   "source": [
    "keys = ['projectKey', 'name']\n",
    "projects = [{key: row[key] for key in keys} for row in data]\n",
    "projects"
   ]
  },
  {
   "cell_type": "code",
   "execution_count": null,
   "id": "a85f855b-4943-424c-9749-3fbaa2134ca6",
   "metadata": {},
   "outputs": [],
   "source": []
  },
  {
   "cell_type": "markdown",
   "id": "9df09e9d-9889-4ea0-8f14-d0d726b4d640",
   "metadata": {},
   "source": [
    "## BacklogのAPIでwikiページ一覧を取得する"
   ]
  },
  {
   "cell_type": "code",
   "execution_count": null,
   "id": "bdd40e97-b84e-4d6f-a87c-57637fe68219",
   "metadata": {},
   "outputs": [],
   "source": [
    "API_URL = '/api/v2/wikis'"
   ]
  },
  {
   "cell_type": "code",
   "execution_count": null,
   "id": "bffde2b0-ab38-475f-bd78-1ec335291582",
   "metadata": {},
   "outputs": [],
   "source": [
    "wiki_pages: list[dict] = []\n",
    "for project in projects:\n",
    "    if project['projectKey'] not in USE_PROJECT_KEYS:\n",
    "        continue\n",
    "    \n",
    "    url = '{base_url}{api_url}?apiKey={api_key}&projectIdOrKey={project_key}'.format(base_url = BACKLOG_BASE_URL, api_url = API_URL, api_key = BACKLOG_API_KEY, project_key = project['projectKey'],)\n",
    "    response = requests.get(url)\n",
    "\n",
    "    data = json.loads(response.text)\n",
    "\n",
    "    for row in data:\n",
    "        skip = False\n",
    "        for name in SKIP_WIKI_PAGE_NAME:\n",
    "            if name in row['name']:\n",
    "                skip = True\n",
    "\n",
    "        if skip:\n",
    "            continue\n",
    "\n",
    "        row['projectKey'] = project_key_dict[str(row['projectId'])]\n",
    "        row['projectName'] = project_name_dict[str(row['projectId'])]\n",
    "        wiki_pages.append(row)\n",
    "        # break\n",
    "    # break"
   ]
  },
  {
   "cell_type": "code",
   "execution_count": null,
   "id": "a1de7272-f5bf-428d-91bd-fad0899918a3",
   "metadata": {},
   "outputs": [],
   "source": [
    "wiki_pages[0]"
   ]
  },
  {
   "cell_type": "code",
   "execution_count": null,
   "id": "151d42a4-bc9f-4edd-b5ad-f686533cd1a4",
   "metadata": {},
   "outputs": [],
   "source": [
    "len(wiki_pages)"
   ]
  },
  {
   "cell_type": "markdown",
   "id": "2804af97-e4d1-4718-a71e-11e5101f5ce6",
   "metadata": {},
   "source": [
    "## Wikiページダウンロードフォルダの内容を削除する"
   ]
  },
  {
   "cell_type": "code",
   "execution_count": null,
   "id": "e17fa6b0-fd5f-401b-9c1d-68ab08210b6b",
   "metadata": {},
   "outputs": [],
   "source": [
    "import os\n",
    "import shutil\n",
    "import glob"
   ]
  },
  {
   "cell_type": "code",
   "execution_count": null,
   "id": "885baf0a-6a18-4e8e-9d1f-814f1adaae84",
   "metadata": {},
   "outputs": [],
   "source": [
    "files = glob.glob('./backlog-wikis/*')\n",
    "for file in files:\n",
    "    if os.path.isdir(file):\n",
    "        shutil.rmtree(file)"
   ]
  },
  {
   "cell_type": "markdown",
   "id": "d3d3e8b4-c76c-4582-94f2-d532a1ff6161",
   "metadata": {},
   "source": [
    "## BacklogのAPIでwikiページ情報を取得する"
   ]
  },
  {
   "cell_type": "code",
   "execution_count": null,
   "id": "0a095b54-08c0-41b4-8c11-424b556be123",
   "metadata": {},
   "outputs": [],
   "source": [
    "API_URL = '/api/v2/wikis/{wiki_id}'"
   ]
  },
  {
   "cell_type": "code",
   "execution_count": null,
   "id": "be2cc572-16db-4fec-91d0-93c99c18e116",
   "metadata": {},
   "outputs": [],
   "source": [
    "import time\n",
    "import os\n",
    "import shutil\n",
    "\n",
    "for i, wiki_page in enumerate(wiki_pages):\n",
    "    print(i, project_name_dict[str(wiki_page['projectId'])], wiki_page['id'], wiki_page['name'],)\n",
    "    url = \\\n",
    "        '{base_url}{api_url}?apiKey={api_key}'.format(\n",
    "            base_url = BACKLOG_BASE_URL,\n",
    "            api_url = API_URL,\n",
    "            api_key = BACKLOG_API_KEY,\n",
    "        )\n",
    "    url = url.format(wiki_id = wiki_page['id'],)\n",
    "    response = requests.get(url)\n",
    "\n",
    "    data = json.loads(response.text)\n",
    "\n",
    "    content_dir_path: str = \\\n",
    "        './backlog-wikis/{project_key}_{project_name}/{wiki_id}_{name}/'.format(\n",
    "            project_key = wiki_page['projectKey'],\n",
    "            project_name = wiki_page['projectName'],\n",
    "            wiki_id = wiki_page['id'],\n",
    "            name = wiki_page['name'].replace('/', '／'),\n",
    "        )\n",
    "\n",
    "    if os.path.isdir(content_dir_path):\n",
    "        shutil.rmtree(content_dir_path)\n",
    "\n",
    "    os.makedirs(content_dir_path)\n",
    "\n",
    "    content_file_path: str = '{dir}content.md'.format(dir = content_dir_path,)\n",
    "\n",
    "    with open(content_file_path, 'w') as f:\n",
    "        f.write(data['content'])\n",
    "\n",
    "    time.sleep(3)"
   ]
  },
  {
   "cell_type": "code",
   "execution_count": null,
   "id": "36f3dc3f-a282-47da-bcfc-8f3d1caac556",
   "metadata": {},
   "outputs": [],
   "source": []
  }
 ],
 "metadata": {
  "kernelspec": {
   "display_name": "Python 3 (ipykernel)",
   "language": "python",
   "name": "python3"
  },
  "language_info": {
   "codemirror_mode": {
    "name": "ipython",
    "version": 3
   },
   "file_extension": ".py",
   "mimetype": "text/x-python",
   "name": "python",
   "nbconvert_exporter": "python",
   "pygments_lexer": "ipython3",
   "version": "3.13.2"
  }
 },
 "nbformat": 4,
 "nbformat_minor": 5
}
