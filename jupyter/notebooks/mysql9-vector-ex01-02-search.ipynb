{
 "cells": [
  {
   "cell_type": "code",
   "execution_count": null,
   "id": "f40b2279-7483-4e20-8b68-695d4d15fad0",
   "metadata": {},
   "outputs": [],
   "source": [
    "import mysql.connector\n",
    "from sentence_transformers import SentenceTransformer"
   ]
  },
  {
   "cell_type": "code",
   "execution_count": null,
   "id": "8243ac64-5f5f-486f-aaaa-6f8d392d2567",
   "metadata": {},
   "outputs": [],
   "source": [
    "SEARCH_KEYWORD = 'サンプル'\n",
    "# SEARCH_KEYWORD = 'これはテスト文です。'"
   ]
  },
  {
   "cell_type": "code",
   "execution_count": null,
   "id": "c091f254-6258-49fd-9b7e-da5daa7d6790",
   "metadata": {},
   "outputs": [],
   "source": [
    "model = SentenceTransformer('sentence-transformers/all-MiniLM-L6-v2')\n",
    "model"
   ]
  },
  {
   "cell_type": "code",
   "execution_count": null,
   "id": "6adc5e34-f57c-4cd1-b8da-223d1d2ba338",
   "metadata": {},
   "outputs": [],
   "source": [
    "search_keyword_embedding = model.encode([SEARCH_KEYWORD])[0]\n",
    "search_keyword_embedding_str = ','.join(map(str, search_keyword_embedding))\n",
    "search_keyword_embedding"
   ]
  },
  {
   "cell_type": "code",
   "execution_count": null,
   "id": "489157de-02f3-44e1-ab86-3435bf57a721",
   "metadata": {},
   "outputs": [],
   "source": [
    "import os\n",
    "db_config = {\n",
    "    'user': os.environ['MYSQL_USER'],\n",
    "    'password': os.environ['MYSQL_PASSWORD'],\n",
    "    'host': 'llm-rag-examples-mysql',\n",
    "    'database': os.environ['MYSQL_DATABASE'],\n",
    "}\n",
    "\n",
    "db_config"
   ]
  },
  {
   "cell_type": "code",
   "execution_count": null,
   "id": "9bc2fcc9-db64-4995-bc8e-74e552bd750a",
   "metadata": {},
   "outputs": [],
   "source": [
    "conn = mysql.connector.connect(**db_config)\n",
    "cursor = conn.cursor()"
   ]
  },
  {
   "cell_type": "code",
   "execution_count": null,
   "id": "08cbb468-297d-4fc5-bac7-9049078e8eb8",
   "metadata": {},
   "outputs": [],
   "source": [
    "cursor.execute('SELECT text, embedding FROM text_embeddings')"
   ]
  },
  {
   "cell_type": "code",
   "execution_count": null,
   "id": "8b270fbb-a081-4784-bdbb-dfdd9551c319",
   "metadata": {},
   "outputs": [],
   "source": [
    "import numpy as np\n",
    "search_result: list = []\n",
    "for (text, embedding,) in cursor:\n",
    "    print(embedding)\n",
    "    print(type(embedding))\n",
    "    dot_product = np.dot(np.array(embedding), search_keyword_embedding)\n",
    "    search_result.append({\n",
    "        'text': text,\n",
    "        'embedding': embedding,\n",
    "        'dot_product': dot_product,\n",
    "    })"
   ]
  },
  {
   "cell_type": "code",
   "execution_count": null,
   "id": "2b089799-3850-442c-8221-72b77af46108",
   "metadata": {},
   "outputs": [],
   "source": [
    "cursor.close()\n",
    "conn.close()"
   ]
  },
  {
   "cell_type": "code",
   "execution_count": null,
   "id": "eadf1efc-0685-4bd5-951d-7a07b7267535",
   "metadata": {},
   "outputs": [],
   "source": [
    "search_result"
   ]
  },
  {
   "cell_type": "code",
   "execution_count": null,
   "id": "1214860c-301f-46bc-a35a-54725efb7b37",
   "metadata": {},
   "outputs": [],
   "source": [
    "sorted_result_full = sorted(search_result, key=lambda x: x['dot_product'], reverse=True)"
   ]
  },
  {
   "cell_type": "code",
   "execution_count": null,
   "id": "b7c29d80-f445-470a-ac1f-af4cbf8aeb11",
   "metadata": {},
   "outputs": [],
   "source": [
    "sorted_result = [(l.get('text'), l.get('dot_product')) for l in sorted_result_full]"
   ]
  },
  {
   "cell_type": "code",
   "execution_count": null,
   "id": "7141bfe4-f0f6-43a4-8085-fa629578dd9e",
   "metadata": {},
   "outputs": [],
   "source": []
  }
 ],
 "metadata": {
  "kernelspec": {
   "display_name": "Python 3 (ipykernel)",
   "language": "python",
   "name": "python3"
  },
  "language_info": {
   "codemirror_mode": {
    "name": "ipython",
    "version": 3
   },
   "file_extension": ".py",
   "mimetype": "text/x-python",
   "name": "python",
   "nbconvert_exporter": "python",
   "pygments_lexer": "ipython3",
   "version": "3.13.2"
  }
 },
 "nbformat": 4,
 "nbformat_minor": 5
}
