{
 "cells": [
  {
   "cell_type": "markdown",
   "id": "fcbe4af9-b7a6-493d-8ef5-a5b169e626dc",
   "metadata": {},
   "source": [
    "# Backlog APIでプロジェクト情報を取得するサンプル"
   ]
  },
  {
   "cell_type": "markdown",
   "id": "c87098a8-e6ea-41ed-8a92-b7dae467a614",
   "metadata": {},
   "source": [
    "## BacklogのAPIキーを環境変数から取得する"
   ]
  },
  {
   "cell_type": "code",
   "execution_count": null,
   "id": "dd52eeb1-6715-4a1d-839f-6a1fb672af6e",
   "metadata": {},
   "outputs": [],
   "source": [
    "import os\n",
    "BACKLOG_API_KEY = os.environ['BACKLOG_API_KEY']"
   ]
  },
  {
   "cell_type": "markdown",
   "id": "23fe001d-e6e8-486e-bf21-59b5f9cc78d9",
   "metadata": {},
   "source": [
    "## BacklogのAPIでユーザー情報を取得する"
   ]
  },
  {
   "cell_type": "code",
   "execution_count": null,
   "id": "2d26201b-81d7-4110-b2fc-8df8fa142f28",
   "metadata": {},
   "outputs": [],
   "source": [
    "BACKLOG_BASE_URL = 'https://bitstar.backlog.jp'"
   ]
  },
  {
   "cell_type": "code",
   "execution_count": null,
   "id": "8f805a8d-1814-4d30-965c-cf185fdd82a2",
   "metadata": {},
   "outputs": [],
   "source": [
    "API_URL = '/api/v2/projects'"
   ]
  },
  {
   "cell_type": "code",
   "execution_count": null,
   "id": "efedda7d-8b16-45a0-917d-359841ebc244",
   "metadata": {},
   "outputs": [],
   "source": [
    "url = '{base_url}{api_url}?apiKey={api_key}'.format(base_url = BACKLOG_BASE_URL, api_url = API_URL, api_key = BACKLOG_API_KEY,)"
   ]
  },
  {
   "cell_type": "code",
   "execution_count": null,
   "id": "dfdb697d-ef75-4392-a7ff-42d47bc2d9f9",
   "metadata": {},
   "outputs": [],
   "source": [
    "import requests"
   ]
  },
  {
   "cell_type": "code",
   "execution_count": null,
   "id": "8da3eadd-1584-48ce-9a1c-eb4b5046d2e2",
   "metadata": {},
   "outputs": [],
   "source": [
    "response = requests.get(url)"
   ]
  },
  {
   "cell_type": "code",
   "execution_count": null,
   "id": "f822cd30-68d6-4ca7-94d8-f8f5d62e8c24",
   "metadata": {},
   "outputs": [],
   "source": [
    "response"
   ]
  },
  {
   "cell_type": "code",
   "execution_count": null,
   "id": "4d286e0b-78e0-4d02-ad85-51e0c6aa4e78",
   "metadata": {},
   "outputs": [],
   "source": [
    "# response.text"
   ]
  },
  {
   "cell_type": "markdown",
   "id": "ef95943b-44de-4b5a-86ad-a5e3a193347a",
   "metadata": {},
   "source": [
    "## JSONをパースする"
   ]
  },
  {
   "cell_type": "code",
   "execution_count": null,
   "id": "04c6298f-6ece-45b4-ab93-192df814c7e2",
   "metadata": {
    "scrolled": true
   },
   "outputs": [],
   "source": [
    "import json\n",
    "data = json.loads(response.text)\n",
    "if type(data) is list and len(data) > 0:\n",
    "    print(data[0])\n",
    "else:\n",
    "    data"
   ]
  },
  {
   "cell_type": "markdown",
   "id": "884047e1-7c73-4321-b96c-fd8d2e8a277d",
   "metadata": {},
   "source": [
    "## プロジェクトキーとプロジェクト名のみを、リスト内包表記を使用して抽出する"
   ]
  },
  {
   "cell_type": "code",
   "execution_count": null,
   "id": "28d912d2-36f4-45b1-a414-9da11bce0213",
   "metadata": {},
   "outputs": [],
   "source": [
    "keys = ['projectKey', 'name']\n",
    "projects = [{key: row[key] for key in keys} for row in data]\n",
    "projects"
   ]
  },
  {
   "cell_type": "code",
   "execution_count": null,
   "id": "8207df8e-49b0-461c-b309-42e4d4255d92",
   "metadata": {},
   "outputs": [],
   "source": []
  }
 ],
 "metadata": {
  "kernelspec": {
   "display_name": "Python 3 (ipykernel)",
   "language": "python",
   "name": "python3"
  },
  "language_info": {
   "codemirror_mode": {
    "name": "ipython",
    "version": 3
   },
   "file_extension": ".py",
   "mimetype": "text/x-python",
   "name": "python",
   "nbconvert_exporter": "python",
   "pygments_lexer": "ipython3",
   "version": "3.13.2"
  }
 },
 "nbformat": 4,
 "nbformat_minor": 5
}
